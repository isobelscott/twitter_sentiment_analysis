{
 "cells": [
  {
   "cell_type": "code",
   "execution_count": 6,
   "metadata": {
    "collapsed": true
   },
   "outputs": [],
   "source": [
    "import os \n",
    "import sys\n",
    "import bbf_twitter_secrets2 #remove keys\n",
    "import json\n",
    "import pandas as pd\n",
    "import numpy as np\n",
    "import matplotlib.pyplot as plt\n",
    "\n",
    "import twitter\n",
    "from tweepy import Stream\n",
    "from tweepy import OAuthHandler\n",
    "from tweepy.streaming import StreamListener\n",
    "from textblob import TextBlob\n",
    "\n",
    "import sqlite3\n",
    "import time\n",
    "from datetime import datetime\n",
    "import re"
   ]
  },
  {
   "cell_type": "code",
   "execution_count": 7,
   "metadata": {
    "collapsed": true
   },
   "outputs": [],
   "source": [
    "conn = sqlite3.connect('twitter.db')\n",
    "c = conn.cursor()"
   ]
  },
  {
   "cell_type": "code",
   "execution_count": null,
   "metadata": {
    "collapsed": true
   },
   "outputs": [],
   "source": [
    "# Run this only the first time you use it so you don't keep re-creating tables\n",
    "c.execute('''CREATE TABLE twitter\n",
    "             (filter text, date text, username text, tweet text)''')"
   ]
  },
  {
   "cell_type": "code",
   "execution_count": 8,
   "metadata": {
    "collapsed": true
   },
   "outputs": [],
   "source": [
    "consumer_key = bbf_twitter_secrets2.consumerKey1()\n",
    "consumer_secret = bbf_twitter_secrets2.consumerSecret1()\n",
    "access_token = bbf_twitter_secrets2.accessToken1()\n",
    "access_token_secret = bbf_twitter_secrets2.accessSecret1()"
   ]
  },
  {
   "cell_type": "code",
   "execution_count": 9,
   "metadata": {},
   "outputs": [
    {
     "name": "stdout",
     "output_type": "stream",
     "text": [
      "zaric RT @EmperorBigD: You know its funny.\n",
      "\n",
      "I haven't seen a SINGLE person complain that they hated Last Jedi because \"THEIR theory\" didn't happe…\n",
      "[(53,)]\n",
      "Tutvm Also I finally got to see the last Jedi today. \n",
      "Strong overall but some weird moments &amp; a terrible (though maybe ne… https://t.co/1dtfXmnjtG\n",
      "[(54,)]\n",
      "TrisYoung28 Watching The Last Jedi again by myself on Christmas day sounds great\n",
      "[(55,)]\n",
      "TheFearlessHero RT @z0mgItsHutch: \"Jesus Christ I can't believe you'd rate The Last Jedi so high. Seriously what is wrong with you??\"\n",
      "\n",
      "Good question, and t…\n",
      "[(56,)]\n",
      "Devidraws The last Jedi was fucking boring as hell\n",
      "[(57,)]\n",
      "EmmaLindhagen Without having seen the last Jedi I can honestly say:\n",
      "\n",
      "Mood https://t.co/Dlm1r0SBeZ\n",
      "[(58,)]\n",
      "NihonbashiB Check out Figure King 239 Japanese Magazine Star Wars The Last Jedi HOT TOYS   https://t.co/wupibT5A5w via @eBay\n",
      "[(59,)]\n",
      "vasira96 oh boy the Hot fandom discourse over the last jedi yIKES maybe take a break a get a drink and realize that just lik… https://t.co/abBE2IW3qu\n",
      "[(60,)]\n",
      "The_Geekiverse RT @JeffreyPavs: What was your favorite movie of 2017? https://t.co/kCLzcGE1pp\n",
      "[(61,)]\n",
      "kositlaorngsri Alt-Right Troll Claims Credit for Low Last Jedi Audience Score https://t.co/vYsQrq0Ge5 via @followistic\n",
      "[(62,)]\n",
      "tattooedyoshi I liked a @YouTube video https://t.co/DUQAozNt8t Star Wars: The Last Jedi - SPOILER Review\n",
      "[(63,)]\n",
      "MonsterClosetpc RT @TwoPeasOnAPod: It's a Christmas miracle! No, not really, just another episode of the Peas. We give our spoiler free reactions to THE LA…\n",
      "[(64,)]\n",
      "jvrancken Ok,Star Wars: The Last Jedi: you converted me back into a 12 year old fanboy! Thank you!!!!\n",
      "[(65,)]\n",
      "LandNarwhal415 RT @2gay2lift: Calling out The Last Jedi's over-obsessive fan culture  =/= trying to invalidate criticisms of the film. It's not about what…\n",
      "[(66,)]\n",
      "NeilHughes71 RT @DepressedDarth: Dying Veteran gets final wish to see Last Jedi https://t.co/hsD5Wxi7VE\n",
      "[(67,)]\n",
      "dailyedge Here's why porgs were a necessary addition to Skellig Michael in Star Wars: The Last Jedi https://t.co/2WSwEv7F2h https://t.co/08UkLtxaOU\n",
      "[(68,)]\n",
      "gabriel_cbit I'm at Cinépolis VIP - @cinepolisbrasil for Star Wars: The Last Jedi 3D in Curitiba, PR https://t.co/C2D2jajGL6\n",
      "[(69,)]\n",
      "keithgooch6 RT @lessergeek: When somebody says The Last Jedi was rubbish https://t.co/qccAmnh95c\n",
      "[(70,)]\n",
      "suchanidleteen RT @RheaButcher: Shout out to Carrie Fisher who did countless hours of punch up and script doctoring on movies, uncredited. Later, her idea…\n",
      "[(71,)]\n",
      "HonkiCat RT @blainecapatch: star wars by weight:\n",
      "1. stair warps\n",
      "2. when the empire sits around the house, it really sits around the house\n",
      "3. return…\n",
      "[(72,)]\n",
      "johannrichard RT @DrAndrewThaler: The Last Jedi's Porgs Are Just Puffins, Which The Film Crew Couldn't Get Rid Of - https://t.co/n4J3IFlRyV https://t.co/…\n",
      "[(73,)]\n",
      "Chrisx1987 RT @RheaButcher: Shout out to Carrie Fisher who did countless hours of punch up and script doctoring on movies, uncredited. Later, her idea…\n",
      "[(74,)]\n",
      "StarCaseKey @miracleofsound I’m a big ol’ dork for Star Wars and I really enjoyed myself with The Last Jedi. I grow more fond t… https://t.co/rcMPPpyt2b\n",
      "[(75,)]\n",
      "adoringajlee RT @adoringajlee: FUNNY HOW Y'ALL STAR WARS FANS WANT TO ERASE THE LAST JEDI FROM THE TIMELINE AND DISRESPECT CARRIE FISHERS LAST WORK IN E…\n",
      "[(76,)]\n",
      "ManuFromPvris RT @DAREDEVlllS: mood when coming out of the last jedi movie https://t.co/yQQ8mhAZCL\n",
      "[(77,)]\n",
      "DominicaSanch13 RT @RheaButcher: Shout out to Carrie Fisher who did countless hours of punch up and script doctoring on movies, uncredited. Later, her idea…\n",
      "[(78,)]\n",
      "TheDrCOfficial RT @ComicBookNOW: STAR WARS: THE LAST JEDI - the Rebel Logo Was Born out of the Ancient Jedi Text\n",
      "https://t.co/WnlpRpGQN5 https://t.co/DzXC…\n",
      "[(79,)]\n",
      "andyfinlay07 The Last Jedi?? https://t.co/59OxL7Aqrt\n",
      "[(80,)]\n",
      "jdudley006 Lots of entitled nerds writing articles about how I didn't recognize that The Last Jedi was objectively the perfect… https://t.co/koR70LCWiu\n",
      "[(81,)]\n",
      "sarah_hookes Star Wars - The Last Jedi ✅tick...\n",
      "[(82,)]\n",
      "MonsterClosetpc RT @CandCGeekcast: https://t.co/krUEdEMaNK We just posted our episode discussing The Last Jedi with all kinds of spoilers. We discuss why w…\n",
      "[(83,)]\n",
      "177618122016USA @View4rmcave @SherazFarooqi_ Last Jedi was fu--ed up. Thor 3 was much better.\n",
      "[(84,)]\n",
      "sxnflowergirl RT @DepressedDarth: Dying Veteran gets final wish to see Last Jedi https://t.co/hsD5Wxi7VE\n",
      "[(85,)]\n",
      "olliemasters Rewatching The Force Awakens in prep for Last Jedi tomorrow. Oscar Isaac is an international treasure who should be in every film\n",
      "[(86,)]\n",
      "crazyone22 RT @DepressedDarth: When someone says Last Jedi isn't a good movie https://t.co/FbHtV4J0ZY\n",
      "[(87,)]\n",
      "keithgooch6 RT @ComicBookNOW: STAR WARS: THE LAST JEDI has already stacked over $650M heading into Christmas Weekend! https://t.co/C37PtnQkKC https://t…\n",
      "[(88,)]\n",
      "SirGumbeaux @HamillHimself Loved Last Jedi even with issues. I loved that Luke pulled an Obiwan at the end, BUT, you were robbe… https://t.co/gE8qEXpK08\n",
      "[(89,)]\n",
      "MonsterClosetpc RT @WeGotFivePod: Many shows are reviewing #TheLastJedi, we decided to take a different approach. Here’s why we disliked it! #StarWars #Pod…\n",
      "[(90,)]\n",
      "MiichaelKing I honestly don’t know how I feel about The Last Jedi 😕\n",
      "[(91,)]\n",
      "kiethkogane Kylo Ren had a lot of development in The Last Jedi to show what we all already knew. He made choices to become evil… https://t.co/HnYOM3jM9P\n",
      "[(92,)]\n",
      "Peter_Freeman This article is perfect. @__caprica @Micah_McFarland https://t.co/TmDSg6kttk\n",
      "[(93,)]\n",
      "zabellart RT @carolgarciapr: I couldn't watch The Last Jedi yet, so I remember a piece I did this year\n",
      "#TheLastJedi #StarWars #draw #illustration #Os…\n",
      "[(94,)]\n",
      "JM0NEY_YT RT @Legacy_Destroy: Thinking about making a Star Wars: The Last Jedi review for both @Stardust_App and for my YouTube channel🤔 What do y'al…\n",
      "[(95,)]\n",
      "spiritb0red RT @RheaButcher: Shout out to Carrie Fisher who did countless hours of punch up and script doctoring on movies, uncredited. Later, her idea…\n",
      "[(96,)]\n",
      "Shan_richards98 Star Wars the last Jedi had me in tears ffs 😂😭 too emotional with movies these days\n",
      "[(97,)]\n",
      "LightningMurphy Cinemablend: The Last Jedi Has Apparently Inspired Some Theaters To Issue A Ridiculous Warning https://t.co/wsxrWFmwwd #film\n",
      "[(98,)]\n",
      "maikamunroe RT @JohnMayer: The satisfaction guarantee of The Last Jedi is that even if you didn’t love the movie, it dazzles in its second life as a so…\n",
      "[(99,)]\n",
      "slacker24l7 the one thing I will say about Star Wars The Last Jedi.  It's missing - Context -&gt; conflict -&gt; climax -&gt; closure -&gt;… https://t.co/Zs6aXosv6k\n",
      "[(100,)]\n",
      "slacker24l7 the one thing I will say about Star Wars The Last Jedi.  It's missing - Context -&gt; conflict -&gt; climax -&gt; closure... https://t.co/TSG6nzrWlf\n",
      "[(101,)]\n",
      "keithgooch6 RT @StarWarsNewsNet: Star Wars: The Last Jedi and Our Obsession With Public Movie Ratings. https://t.co/HB6ofkxTkG\n",
      "#StarWars #TheLastJedi\n",
      "@…\n",
      "[(102,)]\n",
      "MiLLkeSmooV RT @HeadcACE1906: Disney and Amazon run the world https://t.co/dmx2DCvQtx\n",
      "[(103,)]\n"
     ]
    }
   ],
   "source": [
    "filter_input = 'Last Jedi'\n",
    "class listener(StreamListener):\n",
    "    def __init__(self, time_limit=60): # how many seconds you want it to run for\n",
    "        self.start_time = time.time()\n",
    "        self.limit = time_limit\n",
    "        super(listener, self).__init__()\n",
    "        \n",
    "    def on_data(self, data):\n",
    "        if (time.time() - self.start_time) < self.limit:\n",
    "            all_data = json.loads(data)\n",
    "            tweet = all_data[\"text\"]\n",
    "            username = all_data[\"user\"][\"screen_name\"]        \n",
    "            c.execute(\"INSERT INTO twitter (filter, date, username, tweet) VALUES (?,?,?,?);\", \n",
    "                      (filter_input, datetime.now(), username, tweet))\n",
    "            conn.commit()\n",
    "            print(username, tweet) \n",
    "            row_num = c.execute(\"SELECT COUNT (*) FROM twitter\")\n",
    "            row_num1 = row_num.fetchall()\n",
    "            print(row_num1)\n",
    "            return True\n",
    "        else:\n",
    "            return False\n",
    "        \n",
    "    def on_error(self, status):\n",
    "        print(status)\n",
    "        \n",
    "auth = OAuthHandler(consumer_key, consumer_secret)\n",
    "auth.set_access_token(access_token, access_token_secret)\n",
    "\n",
    "twitterStream = Stream(auth, listener())\n",
    "twitterStream.filter(track=[filter_input], languages=[\"en\"])"
   ]
  },
  {
   "cell_type": "code",
   "execution_count": 10,
   "metadata": {
    "collapsed": true
   },
   "outputs": [],
   "source": [
    "cur = c.execute('SELECT * FROM twitter WHERE filter=?', (filter_input,)) \n",
    "look = cur.fetchall()"
   ]
  },
  {
   "cell_type": "code",
   "execution_count": 11,
   "metadata": {},
   "outputs": [
    {
     "data": {
      "text/plain": [
       "[('Last Jedi',\n",
       "  '2017-12-22 17:34:21.800355',\n",
       "  'zaric',\n",
       "  'RT @EmperorBigD: You know its funny.\\n\\nI haven\\'t seen a SINGLE person complain that they hated Last Jedi because \"THEIR theory\" didn\\'t happe…'),\n",
       " ('Last Jedi',\n",
       "  '2017-12-22 17:34:23.054049',\n",
       "  'Tutvm',\n",
       "  'Also I finally got to see the last Jedi today. \\nStrong overall but some weird moments &amp; a terrible (though maybe ne… https://t.co/1dtfXmnjtG'),\n",
       " ('Last Jedi',\n",
       "  '2017-12-22 17:34:24.041080',\n",
       "  'TrisYoung28',\n",
       "  'Watching The Last Jedi again by myself on Christmas day sounds great'),\n",
       " ('Last Jedi',\n",
       "  '2017-12-22 17:34:25.560593',\n",
       "  'TheFearlessHero',\n",
       "  'RT @z0mgItsHutch: \"Jesus Christ I can\\'t believe you\\'d rate The Last Jedi so high. Seriously what is wrong with you??\"\\n\\nGood question, and t…'),\n",
       " ('Last Jedi',\n",
       "  '2017-12-22 17:34:26.292106',\n",
       "  'Devidraws',\n",
       "  'The last Jedi was fucking boring as hell'),\n",
       " ('Last Jedi',\n",
       "  '2017-12-22 17:34:28.066004',\n",
       "  'EmmaLindhagen',\n",
       "  'Without having seen the last Jedi I can honestly say:\\n\\nMood https://t.co/Dlm1r0SBeZ'),\n",
       " ('Last Jedi',\n",
       "  '2017-12-22 17:34:30.678582',\n",
       "  'NihonbashiB',\n",
       "  'Check out Figure King 239 Japanese Magazine Star Wars The Last Jedi HOT TOYS   https://t.co/wupibT5A5w via @eBay'),\n",
       " ('Last Jedi',\n",
       "  '2017-12-22 17:34:31.096747',\n",
       "  'vasira96',\n",
       "  'oh boy the Hot fandom discourse over the last jedi yIKES maybe take a break a get a drink and realize that just lik… https://t.co/abBE2IW3qu'),\n",
       " ('Last Jedi',\n",
       "  '2017-12-22 17:34:31.154282',\n",
       "  'The_Geekiverse',\n",
       "  'RT @JeffreyPavs: What was your favorite movie of 2017? https://t.co/kCLzcGE1pp'),\n",
       " ('Last Jedi',\n",
       "  '2017-12-22 17:34:31.303533',\n",
       "  'kositlaorngsri',\n",
       "  'Alt-Right Troll Claims Credit for Low Last Jedi Audience Score https://t.co/vYsQrq0Ge5 via @followistic'),\n",
       " ('Last Jedi',\n",
       "  '2017-12-22 17:34:32.560739',\n",
       "  'tattooedyoshi',\n",
       "  'I liked a @YouTube video https://t.co/DUQAozNt8t Star Wars: The Last Jedi - SPOILER Review'),\n",
       " ('Last Jedi',\n",
       "  '2017-12-22 17:34:32.767882',\n",
       "  'MonsterClosetpc',\n",
       "  \"RT @TwoPeasOnAPod: It's a Christmas miracle! No, not really, just another episode of the Peas. We give our spoiler free reactions to THE LA…\"),\n",
       " ('Last Jedi',\n",
       "  '2017-12-22 17:34:34.512343',\n",
       "  'jvrancken',\n",
       "  'Ok,Star Wars: The Last Jedi: you converted me back into a 12 year old fanboy! Thank you!!!!'),\n",
       " ('Last Jedi',\n",
       "  '2017-12-22 17:34:35.175385',\n",
       "  'LandNarwhal415',\n",
       "  \"RT @2gay2lift: Calling out The Last Jedi's over-obsessive fan culture  =/= trying to invalidate criticisms of the film. It's not about what…\"),\n",
       " ('Last Jedi',\n",
       "  '2017-12-22 17:34:35.818091',\n",
       "  'NeilHughes71',\n",
       "  'RT @DepressedDarth: Dying Veteran gets final wish to see Last Jedi https://t.co/hsD5Wxi7VE'),\n",
       " ('Last Jedi',\n",
       "  '2017-12-22 17:34:38.616070',\n",
       "  'dailyedge',\n",
       "  \"Here's why porgs were a necessary addition to Skellig Michael in Star Wars: The Last Jedi https://t.co/2WSwEv7F2h https://t.co/08UkLtxaOU\"),\n",
       " ('Last Jedi',\n",
       "  '2017-12-22 17:34:38.681550',\n",
       "  'gabriel_cbit',\n",
       "  \"I'm at Cinépolis VIP - @cinepolisbrasil for Star Wars: The Last Jedi 3D in Curitiba, PR https://t.co/C2D2jajGL6\"),\n",
       " ('Last Jedi',\n",
       "  '2017-12-22 17:34:39.868298',\n",
       "  'keithgooch6',\n",
       "  'RT @lessergeek: When somebody says The Last Jedi was rubbish https://t.co/qccAmnh95c'),\n",
       " ('Last Jedi',\n",
       "  '2017-12-22 17:34:42.376757',\n",
       "  'suchanidleteen',\n",
       "  'RT @RheaButcher: Shout out to Carrie Fisher who did countless hours of punch up and script doctoring on movies, uncredited. Later, her idea…'),\n",
       " ('Last Jedi',\n",
       "  '2017-12-22 17:34:42.920221',\n",
       "  'HonkiCat',\n",
       "  'RT @blainecapatch: star wars by weight:\\n1. stair warps\\n2. when the empire sits around the house, it really sits around the house\\n3. return…'),\n",
       " ('Last Jedi',\n",
       "  '2017-12-22 17:34:43.211770',\n",
       "  'johannrichard',\n",
       "  \"RT @DrAndrewThaler: The Last Jedi's Porgs Are Just Puffins, Which The Film Crew Couldn't Get Rid Of - https://t.co/n4J3IFlRyV https://t.co/…\"),\n",
       " ('Last Jedi',\n",
       "  '2017-12-22 17:34:45.719053',\n",
       "  'Chrisx1987',\n",
       "  'RT @RheaButcher: Shout out to Carrie Fisher who did countless hours of punch up and script doctoring on movies, uncredited. Later, her idea…'),\n",
       " ('Last Jedi',\n",
       "  '2017-12-22 17:34:48.225806',\n",
       "  'StarCaseKey',\n",
       "  '@miracleofsound I’m a big ol’ dork for Star Wars and I really enjoyed myself with The Last Jedi. I grow more fond t… https://t.co/rcMPPpyt2b'),\n",
       " ('Last Jedi',\n",
       "  '2017-12-22 17:34:48.435829',\n",
       "  'adoringajlee',\n",
       "  \"RT @adoringajlee: FUNNY HOW Y'ALL STAR WARS FANS WANT TO ERASE THE LAST JEDI FROM THE TIMELINE AND DISRESPECT CARRIE FISHERS LAST WORK IN E…\"),\n",
       " ('Last Jedi',\n",
       "  '2017-12-22 17:34:49.812857',\n",
       "  'ManuFromPvris',\n",
       "  'RT @DAREDEVlllS: mood when coming out of the last jedi movie https://t.co/yQQ8mhAZCL'),\n",
       " ('Last Jedi',\n",
       "  '2017-12-22 17:34:50.313038',\n",
       "  'DominicaSanch13',\n",
       "  'RT @RheaButcher: Shout out to Carrie Fisher who did countless hours of punch up and script doctoring on movies, uncredited. Later, her idea…'),\n",
       " ('Last Jedi',\n",
       "  '2017-12-22 17:34:51.670996',\n",
       "  'TheDrCOfficial',\n",
       "  'RT @ComicBookNOW: STAR WARS: THE LAST JEDI - the Rebel Logo Was Born out of the Ancient Jedi Text\\nhttps://t.co/WnlpRpGQN5 https://t.co/DzXC…'),\n",
       " ('Last Jedi',\n",
       "  '2017-12-22 17:34:51.692506',\n",
       "  'andyfinlay07',\n",
       "  'The Last Jedi?? https://t.co/59OxL7Aqrt'),\n",
       " ('Last Jedi',\n",
       "  '2017-12-22 17:34:53.030367',\n",
       "  'jdudley006',\n",
       "  \"Lots of entitled nerds writing articles about how I didn't recognize that The Last Jedi was objectively the perfect… https://t.co/koR70LCWiu\"),\n",
       " ('Last Jedi',\n",
       "  '2017-12-22 17:34:54.074436',\n",
       "  'sarah_hookes',\n",
       "  'Star Wars - The Last Jedi ✅tick...'),\n",
       " ('Last Jedi',\n",
       "  '2017-12-22 17:34:54.185672',\n",
       "  'MonsterClosetpc',\n",
       "  'RT @CandCGeekcast: https://t.co/krUEdEMaNK We just posted our episode discussing The Last Jedi with all kinds of spoilers. We discuss why w…'),\n",
       " ('Last Jedi',\n",
       "  '2017-12-22 17:34:54.236889',\n",
       "  '177618122016USA',\n",
       "  '@View4rmcave @SherazFarooqi_ Last Jedi was fu--ed up. Thor 3 was much better.'),\n",
       " ('Last Jedi',\n",
       "  '2017-12-22 17:34:56.080775',\n",
       "  'sxnflowergirl',\n",
       "  'RT @DepressedDarth: Dying Veteran gets final wish to see Last Jedi https://t.co/hsD5Wxi7VE'),\n",
       " ('Last Jedi',\n",
       "  '2017-12-22 17:34:59.714220',\n",
       "  'olliemasters',\n",
       "  'Rewatching The Force Awakens in prep for Last Jedi tomorrow. Oscar Isaac is an international treasure who should be in every film'),\n",
       " ('Last Jedi',\n",
       "  '2017-12-22 17:35:00.236900',\n",
       "  'crazyone22',\n",
       "  \"RT @DepressedDarth: When someone says Last Jedi isn't a good movie https://t.co/FbHtV4J0ZY\"),\n",
       " ('Last Jedi',\n",
       "  '2017-12-22 17:35:02.324617',\n",
       "  'keithgooch6',\n",
       "  'RT @ComicBookNOW: STAR WARS: THE LAST JEDI has already stacked over $650M heading into Christmas Weekend! https://t.co/C37PtnQkKC https://t…'),\n",
       " ('Last Jedi',\n",
       "  '2017-12-22 17:35:02.952854',\n",
       "  'SirGumbeaux',\n",
       "  '@HamillHimself Loved Last Jedi even with issues. I loved that Luke pulled an Obiwan at the end, BUT, you were robbe… https://t.co/gE8qEXpK08'),\n",
       " ('Last Jedi',\n",
       "  '2017-12-22 17:35:04.540378',\n",
       "  'MonsterClosetpc',\n",
       "  'RT @WeGotFivePod: Many shows are reviewing #TheLastJedi, we decided to take a different approach. Here’s why we disliked it! #StarWars #Pod…'),\n",
       " ('Last Jedi',\n",
       "  '2017-12-22 17:35:04.592621',\n",
       "  'MiichaelKing',\n",
       "  'I honestly don’t know how I feel about The Last Jedi 😕'),\n",
       " ('Last Jedi',\n",
       "  '2017-12-22 17:35:05.668708',\n",
       "  'kiethkogane',\n",
       "  'Kylo Ren had a lot of development in The Last Jedi to show what we all already knew. He made choices to become evil… https://t.co/HnYOM3jM9P'),\n",
       " ('Last Jedi',\n",
       "  '2017-12-22 17:35:05.980296',\n",
       "  'Peter_Freeman',\n",
       "  'This article is perfect. @__caprica @Micah_McFarland https://t.co/TmDSg6kttk'),\n",
       " ('Last Jedi',\n",
       "  '2017-12-22 17:35:06.378706',\n",
       "  'zabellart',\n",
       "  \"RT @carolgarciapr: I couldn't watch The Last Jedi yet, so I remember a piece I did this year\\n#TheLastJedi #StarWars #draw #illustration #Os…\"),\n",
       " ('Last Jedi',\n",
       "  '2017-12-22 17:35:07.535738',\n",
       "  'JM0NEY_YT',\n",
       "  \"RT @Legacy_Destroy: Thinking about making a Star Wars: The Last Jedi review for both @Stardust_App and for my YouTube channel🤔 What do y'al…\"),\n",
       " ('Last Jedi',\n",
       "  '2017-12-22 17:35:09.026826',\n",
       "  'spiritb0red',\n",
       "  'RT @RheaButcher: Shout out to Carrie Fisher who did countless hours of punch up and script doctoring on movies, uncredited. Later, her idea…'),\n",
       " ('Last Jedi',\n",
       "  '2017-12-22 17:35:10.681976',\n",
       "  'Shan_richards98',\n",
       "  'Star Wars the last Jedi had me in tears ffs 😂😭 too emotional with movies these days'),\n",
       " ('Last Jedi',\n",
       "  '2017-12-22 17:35:12.353096',\n",
       "  'LightningMurphy',\n",
       "  'Cinemablend: The Last Jedi Has Apparently Inspired Some Theaters To Issue A Ridiculous Warning https://t.co/wsxrWFmwwd #film'),\n",
       " ('Last Jedi',\n",
       "  '2017-12-22 17:35:13.397602',\n",
       "  'maikamunroe',\n",
       "  'RT @JohnMayer: The satisfaction guarantee of The Last Jedi is that even if you didn’t love the movie, it dazzles in its second life as a so…'),\n",
       " ('Last Jedi',\n",
       "  '2017-12-22 17:35:15.102418',\n",
       "  'slacker24l7',\n",
       "  \"the one thing I will say about Star Wars The Last Jedi.  It's missing - Context -&gt; conflict -&gt; climax -&gt; closure -&gt;… https://t.co/Zs6aXosv6k\"),\n",
       " ('Last Jedi',\n",
       "  '2017-12-22 17:35:16.844426',\n",
       "  'slacker24l7',\n",
       "  \"the one thing I will say about Star Wars The Last Jedi.  It's missing - Context -&gt; conflict -&gt; climax -&gt; closure... https://t.co/TSG6nzrWlf\"),\n",
       " ('Last Jedi',\n",
       "  '2017-12-22 17:35:17.992313',\n",
       "  'keithgooch6',\n",
       "  'RT @StarWarsNewsNet: Star Wars: The Last Jedi and Our Obsession With Public Movie Ratings. https://t.co/HB6ofkxTkG\\n#StarWars #TheLastJedi\\n@…'),\n",
       " ('Last Jedi',\n",
       "  '2017-12-22 17:35:19.479176',\n",
       "  'MiLLkeSmooV',\n",
       "  'RT @HeadcACE1906: Disney and Amazon run the world https://t.co/dmx2DCvQtx')]"
      ]
     },
     "execution_count": 11,
     "metadata": {},
     "output_type": "execute_result"
    }
   ],
   "source": [
    "look"
   ]
  },
  {
   "cell_type": "code",
   "execution_count": 12,
   "metadata": {
    "collapsed": true
   },
   "outputs": [],
   "source": [
    "relevant_rows = c.execute(\"SELECT COUNT (*) FROM twitter WHERE filter=?\", (filter_input,))\n",
    "count_of_relevant_tweets = relevant_rows.fetchall()"
   ]
  },
  {
   "cell_type": "code",
   "execution_count": 13,
   "metadata": {},
   "outputs": [
    {
     "data": {
      "text/plain": [
       "[(51,)]"
      ]
     },
     "execution_count": 13,
     "metadata": {},
     "output_type": "execute_result"
    }
   ],
   "source": [
    "count_of_relevant_tweets"
   ]
  },
  {
   "cell_type": "code",
   "execution_count": 14,
   "metadata": {},
   "outputs": [],
   "source": [
    "filtered_tweets = c.execute(\"SELECT tweet FROM twitter WHERE filter=?\", (filter_input,))\n",
    "\n",
    "def clean_tweets(filtered_tweets):\n",
    "    clean_tweets = []\n",
    "    for tweet in filtered_tweets:\n",
    "        tweet1 = str(tweet)\n",
    "        tweet2 = ' '.join(re.sub(\"(@[A-Za-z0-9]+)|([^0-9A-Za-z \\t])|(\\w+:\\/\\/\\S+)\", \" \", tweet1).split())\n",
    "        clean_tweets.append(tweet2)\n",
    "    return clean_tweets"
   ]
  },
  {
   "cell_type": "code",
   "execution_count": 15,
   "metadata": {
    "collapsed": true
   },
   "outputs": [],
   "source": [
    "just_tweets = clean_tweets(filtered_tweets)"
   ]
  },
  {
   "cell_type": "code",
   "execution_count": 16,
   "metadata": {},
   "outputs": [
    {
     "data": {
      "text/plain": [
       "51"
      ]
     },
     "execution_count": 16,
     "metadata": {},
     "output_type": "execute_result"
    }
   ],
   "source": [
    "len(just_tweets)"
   ]
  },
  {
   "cell_type": "code",
   "execution_count": 17,
   "metadata": {
    "collapsed": true
   },
   "outputs": [],
   "source": [
    "def analyze_that(just_tweets):\n",
    "    pos_list = []\n",
    "    neg_list = []\n",
    "    for tweet in just_tweets:\n",
    "        tweet_tb = TextBlob(tweet, analyzer=NaiveBayesAnalyzer())\n",
    "        sent = tweet_tb.sentiment\n",
    "        pos_list.append(sent.p_pos)\n",
    "        neg_list.append(sent.p_neg)\n",
    "    \n",
    "    avg_pos = sum(pos_list) / len(pos_list)\n",
    "    avg_neg = sum(neg_list) / len(neg_list)\n",
    "    \n",
    "    return avg_pos, avg_neg # avg percentage positive & percentage negative"
   ]
  },
  {
   "cell_type": "code",
   "execution_count": 20,
   "metadata": {},
   "outputs": [
    {
     "data": {
      "text/plain": [
       "(0.7905551464839482, 0.20944485351605158)"
      ]
     },
     "execution_count": 20,
     "metadata": {},
     "output_type": "execute_result"
    }
   ],
   "source": [
    "analyze_that(just_tweets)"
   ]
  }
 ],
 "metadata": {
  "kernelspec": {
   "display_name": "Python 3",
   "language": "python",
   "name": "python3"
  },
  "language_info": {
   "codemirror_mode": {
    "name": "ipython",
    "version": 3
   },
   "file_extension": ".py",
   "mimetype": "text/x-python",
   "name": "python",
   "nbconvert_exporter": "python",
   "pygments_lexer": "ipython3",
   "version": "3.6.2"
  }
 },
 "nbformat": 4,
 "nbformat_minor": 2
}
